{
 "cells": [
  {
   "cell_type": "code",
   "execution_count": null,
   "id": "f9a958bc-5702-4152-adcf-24e7880ed07e",
   "metadata": {},
   "outputs": [],
   "source": [
    "Ludwigsburg\n"
   ]
  }
 ],
 "metadata": {
  "kernelspec": {
   "display_name": "",
   "name": ""
  },
  "language_info": {
   "name": ""
  }
 },
 "nbformat": 4,
 "nbformat_minor": 5
}
