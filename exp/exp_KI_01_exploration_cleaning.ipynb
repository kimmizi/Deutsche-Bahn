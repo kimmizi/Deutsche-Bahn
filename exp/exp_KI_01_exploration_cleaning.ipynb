{
 "cells": [
  {
   "cell_type": "markdown",
   "metadata": {},
   "source": [
    "# Read data"
   ]
  },
  {
   "cell_type": "code",
   "execution_count": 2,
   "metadata": {
    "ExecuteTime": {
     "end_time": "2024-01-17T10:54:06.472964Z",
     "start_time": "2024-01-17T10:53:57.800119Z"
    }
   },
   "outputs": [],
   "source": [
    "import pandas as pd\n",
    "import numpy as np"
   ]
  },
  {
   "cell_type": "code",
   "execution_count": 3,
   "metadata": {
    "ExecuteTime": {
     "end_time": "2024-01-17T10:54:47.154024Z",
     "start_time": "2024-01-17T10:54:46.555652Z"
    },
    "collapsed": false,
    "jupyter": {
     "outputs_hidden": false
    }
   },
   "outputs": [],
   "source": [
    "# read data with the number of train rides and the minutes of delay\n",
    "data_rides = pd.read_csv(\"../dat/Zugfahrten_2016_12.csv\", sep = \";\", encoding = \"latin-1\")\n",
    "\n",
    "# rename columns (english translation)\n",
    "data_rides.columns = [\"Station or stop\", \"Country\", \"Date\", \"Number of train rides\", \"Minutes of delay\"]"
   ]
  },
  {
   "cell_type": "code",
   "execution_count": 4,
   "metadata": {
    "ExecuteTime": {
     "end_time": "2024-01-17T10:54:53.530340Z",
     "start_time": "2024-01-17T10:54:53.458066Z"
    },
    "collapsed": false,
    "jupyter": {
     "outputs_hidden": false
    }
   },
   "outputs": [],
   "source": [
    "# read data with the coordinates of the stations\n",
    "data_stations = pd.read_csv(\"../dat/GEO_Bahnstellen_EXPORT.csv\", sep = \";\", encoding = \"latin-1\")\n",
    "\n",
    "# rename columns (english translation)\n",
    "data_stations.columns = [\"Station or stop\", \"Name\", \"Country\", \"Coordinate Latitude\", \"Coordinate Longitude\"]"
   ]
  },
  {
   "cell_type": "code",
   "execution_count": 5,
   "metadata": {
    "ExecuteTime": {
     "end_time": "2024-01-17T10:55:03.063760Z",
     "start_time": "2024-01-17T10:55:02.633702Z"
    },
    "collapsed": false,
    "jupyter": {
     "outputs_hidden": false
    }
   },
   "outputs": [
    {
     "data": {
      "text/plain": [
       "766028"
      ]
     },
     "execution_count": 5,
     "metadata": {},
     "output_type": "execute_result"
    }
   ],
   "source": [
    "# merge the two dataframes\n",
    "data = pd.merge(data_rides, data_stations, on = \"Station or stop\")\n",
    "data = data.drop([\"Country_x\"], axis = 1)\n",
    "\n",
    "# rename the column \"Country_y\" to \"Country\"\n",
    "data = data.rename(columns = {\"Country_y\": \"Country\"})\n",
    "len(data)"
   ]
  },
  {
   "cell_type": "markdown",
   "metadata": {},
   "source": [
    "# Take a look..."
   ]
  },
  {
   "cell_type": "code",
   "execution_count": 6,
   "metadata": {
    "ExecuteTime": {
     "end_time": "2024-01-17T10:54:06.903226Z",
     "start_time": "2024-01-17T10:54:06.902433Z"
    }
   },
   "outputs": [
    {
     "data": {
      "text/html": [
       "<div>\n",
       "<style scoped>\n",
       "    .dataframe tbody tr th:only-of-type {\n",
       "        vertical-align: middle;\n",
       "    }\n",
       "\n",
       "    .dataframe tbody tr th {\n",
       "        vertical-align: top;\n",
       "    }\n",
       "\n",
       "    .dataframe thead th {\n",
       "        text-align: right;\n",
       "    }\n",
       "</style>\n",
       "<table border=\"1\" class=\"dataframe\">\n",
       "  <thead>\n",
       "    <tr style=\"text-align: right;\">\n",
       "      <th></th>\n",
       "      <th>Station or stop</th>\n",
       "      <th>Date</th>\n",
       "      <th>Number of train rides</th>\n",
       "      <th>Minutes of delay</th>\n",
       "      <th>Name</th>\n",
       "      <th>Country</th>\n",
       "      <th>Coordinate Latitude</th>\n",
       "      <th>Coordinate Longitude</th>\n",
       "    </tr>\n",
       "  </thead>\n",
       "  <tbody>\n",
       "    <tr>\n",
       "      <th>0</th>\n",
       "      <td>80197079</td>\n",
       "      <td>16.03.2016 00:00</td>\n",
       "      <td>39</td>\n",
       "      <td>49</td>\n",
       "      <td>KINDSBACH</td>\n",
       "      <td>DEUTSCHLAND</td>\n",
       "      <td>49.420450</td>\n",
       "      <td>7.613668</td>\n",
       "    </tr>\n",
       "    <tr>\n",
       "      <th>1</th>\n",
       "      <td>80160168</td>\n",
       "      <td>01.11.2016 00:00</td>\n",
       "      <td>12</td>\n",
       "      <td>0</td>\n",
       "      <td>NIEDERTREBRA</td>\n",
       "      <td>DEUTSCHLAND</td>\n",
       "      <td>51.065500</td>\n",
       "      <td>11.580700</td>\n",
       "    </tr>\n",
       "    <tr>\n",
       "      <th>2</th>\n",
       "      <td>80105122</td>\n",
       "      <td>30.04.2016 00:00</td>\n",
       "      <td>16</td>\n",
       "      <td>2</td>\n",
       "      <td>HAMM FELDMARK</td>\n",
       "      <td>DEUTSCHLAND</td>\n",
       "      <td>51.697611</td>\n",
       "      <td>7.787870</td>\n",
       "    </tr>\n",
       "    <tr>\n",
       "      <th>3</th>\n",
       "      <td>80190793</td>\n",
       "      <td>31.07.2016 00:00</td>\n",
       "      <td>14</td>\n",
       "      <td>0</td>\n",
       "      <td>LUDWIGSHAFEN (RHEIN) BASF</td>\n",
       "      <td>DEUTSCHLAND</td>\n",
       "      <td>49.510682</td>\n",
       "      <td>8.428922</td>\n",
       "    </tr>\n",
       "    <tr>\n",
       "      <th>4</th>\n",
       "      <td>80231464</td>\n",
       "      <td>04.05.2016 00:00</td>\n",
       "      <td>10</td>\n",
       "      <td>2</td>\n",
       "      <td>BURGKEMNITZ</td>\n",
       "      <td>DEUTSCHLAND</td>\n",
       "      <td>51.689400</td>\n",
       "      <td>12.407990</td>\n",
       "    </tr>\n",
       "  </tbody>\n",
       "</table>\n",
       "</div>"
      ],
      "text/plain": [
       "   Station or stop              Date  Number of train rides  Minutes of delay  \\\n",
       "0         80197079  16.03.2016 00:00                     39                49   \n",
       "1         80160168  01.11.2016 00:00                     12                 0   \n",
       "2         80105122  30.04.2016 00:00                     16                 2   \n",
       "3         80190793  31.07.2016 00:00                     14                 0   \n",
       "4         80231464  04.05.2016 00:00                     10                 2   \n",
       "\n",
       "                        Name      Country  Coordinate Latitude  \\\n",
       "0                  KINDSBACH  DEUTSCHLAND            49.420450   \n",
       "1               NIEDERTREBRA  DEUTSCHLAND            51.065500   \n",
       "2              HAMM FELDMARK  DEUTSCHLAND            51.697611   \n",
       "3  LUDWIGSHAFEN (RHEIN) BASF  DEUTSCHLAND            49.510682   \n",
       "4                BURGKEMNITZ  DEUTSCHLAND            51.689400   \n",
       "\n",
       "   Coordinate Longitude  \n",
       "0              7.613668  \n",
       "1             11.580700  \n",
       "2              7.787870  \n",
       "3              8.428922  \n",
       "4             12.407990  "
      ]
     },
     "execution_count": 6,
     "metadata": {},
     "output_type": "execute_result"
    }
   ],
   "source": [
    "data.head()"
   ]
  },
  {
   "cell_type": "code",
   "execution_count": 7,
   "metadata": {
    "ExecuteTime": {
     "start_time": "2024-01-17T10:54:06.905389Z"
    }
   },
   "outputs": [
    {
     "data": {
      "text/plain": [
       "<Axes: >"
      ]
     },
     "execution_count": 7,
     "metadata": {},
     "output_type": "execute_result"
    },
    {
     "data": {
      "image/png": "[encoded data removed]",
      "text/plain": [
       "<Figure size 640x480 with 1 Axes>"
      ]
     },
     "metadata": {},
     "output_type": "display_data"
    }
   ],
   "source": [
    "# histogram of the number of train rides\n",
    "data[\"Number of train rides\"].hist(bins = 30, rwidth = 0.8)"
   ]
  },
  {
   "cell_type": "code",
   "execution_count": 8,
   "metadata": {
    "ExecuteTime": {
     "start_time": "2024-01-17T10:54:06.908919Z"
    }
   },
   "outputs": [
    {
     "data": {
      "text/plain": [
       "<Axes: >"
      ]
     },
     "execution_count": 8,
     "metadata": {},
     "output_type": "execute_result"
    },
    {
     "data": {
      "image/png": "[encoded data removed]",
      "text/plain": [
       "<Figure size 640x480 with 1 Axes>"
      ]
     },
     "metadata": {},
     "output_type": "display_data"
    }
   ],
   "source": [
    "# histogram of the minutes of delay\n",
    "data[\"Minutes of delay\"].hist(bins = 30, rwidth = 0.8)"
   ]
  },
  {
   "cell_type": "code",
   "execution_count": 9,
   "metadata": {
    "ExecuteTime": {
     "end_time": "2024-01-17T10:54:06.914641Z",
     "start_time": "2024-01-17T10:54:06.911759Z"
    }
   },
   "outputs": [
    {
     "data": {
      "text/plain": [
       "<Axes: xlabel='Country'>"
      ]
     },
     "execution_count": 9,
     "metadata": {},
     "output_type": "execute_result"
    },
    {
     "name": "stderr",
     "output_type": "stream",
     "text": [
      "/Users/frederikpanse/Desktop/db_project/venv/lib/python3.11/site-packages/IPython/core/events.py:82: UserWarning: Glyph 132 (\\x84) missing from current font.\n",
      "  func(*args, **kwargs)\n",
      "/Users/frederikpanse/Desktop/db_project/venv/lib/python3.11/site-packages/IPython/core/events.py:82: UserWarning: Glyph 150 (\\x96) missing from current font.\n",
      "  func(*args, **kwargs)\n",
      "/Users/frederikpanse/Desktop/db_project/venv/lib/python3.11/site-packages/IPython/core/pylabtools.py:152: UserWarning: Glyph 132 (\\x84) missing from current font.\n",
      "  fig.canvas.print_figure(bytes_io, **kw)\n",
      "/Users/frederikpanse/Desktop/db_project/venv/lib/python3.11/site-packages/IPython/core/pylabtools.py:152: UserWarning: Glyph 150 (\\x96) missing from current font.\n",
      "  fig.canvas.print_figure(bytes_io, **kw)\n"
     ]
    },
    {
     "data": {
      "image/png": "[encoded data removed]",
      "text/plain": [
       "<Figure size 640x480 with 1 Axes>"
      ]
     },
     "metadata": {},
     "output_type": "display_data"
    }
   ],
   "source": [
    "# histogram of the minutes of delay per country\n",
    "data.groupby(\"Country\")[\"Minutes of delay\"].mean().plot(kind = \"bar\")"
   ]
  },
  {
   "cell_type": "markdown",
   "metadata": {},
   "source": [
    "# Data cleaning"
   ]
  },
  {
   "cell_type": "code",
   "execution_count": 10,
   "metadata": {
    "ExecuteTime": {
     "end_time": "2024-01-17T10:54:06.915676Z",
     "start_time": "2024-01-17T10:54:06.915136Z"
    }
   },
   "outputs": [
    {
     "name": "stdout",
     "output_type": "stream",
     "text": [
      "757228\n",
      "['DEUTSCHLAND']\n"
     ]
    }
   ],
   "source": [
    "# 1) Include only values for Germany\n",
    "data = data[data['Country'] == \"DEUTSCHLAND\"]\n",
    "\n",
    "# check if it worked\n",
    "print(len(data))\n",
    "print(data['Country'].unique())"
   ]
  },
  {
   "cell_type": "code",
   "execution_count": 11,
   "metadata": {
    "ExecuteTime": {
     "start_time": "2024-01-17T10:54:06.916945Z"
    }
   },
   "outputs": [
    {
     "name": "stdout",
     "output_type": "stream",
     "text": [
      "757007\n"
     ]
    },
    {
     "data": {
      "text/plain": [
       "Station or stop          0\n",
       "Date                     0\n",
       "Number of train rides    0\n",
       "Minutes of delay         0\n",
       "Name                     0\n",
       "Country                  0\n",
       "Coordinate Latitude      0\n",
       "Coordinate Longitude     0\n",
       "dtype: int64"
      ]
     },
     "execution_count": 11,
     "metadata": {},
     "output_type": "execute_result"
    }
   ],
   "source": [
    "# 2) Missing values\n",
    "\n",
    "# check for missing values\n",
    "data.isnull().sum()\n",
    "\n",
    "# drop rows with missing values\n",
    "data = data.dropna(axis = 0, how = \"any\")\n",
    "\n",
    "# check if it worked\n",
    "print(len(data))\n",
    "data.isnull().sum()"
   ]
  },
  {
   "cell_type": "code",
   "execution_count": 12,
   "metadata": {
    "ExecuteTime": {
     "start_time": "2024-01-17T10:54:06.918735Z"
    }
   },
   "outputs": [],
   "source": [
    "# 3) Calculate mean for every station\n",
    "\n",
    "# drop columns that are not needed\n",
    "data_mean = data.drop(columns = [\"Date\", \"Country\", \"Coordinate Latitude\", \"Coordinate Longitude\", \"Name\"])\n",
    "data_mean = data_mean.groupby([\"Station or stop\"]).mean()\n",
    "\n",
    "# get the names of the stations\n",
    "data_names = data.drop(columns = [\"Date\", \"Country\", \"Number of train rides\", \"Minutes of delay\"])\n",
    "data_names = data_names.drop_duplicates()\n",
    "\n",
    "# merge the two dataframes\n",
    "data_mean = pd.merge(data_names, data_mean, on = \"Station or stop\", how = \"left\")"
   ]
  },
  {
   "cell_type": "code",
   "execution_count": 13,
   "metadata": {
    "ExecuteTime": {
     "start_time": "2024-01-17T10:54:06.920781Z"
    }
   },
   "outputs": [
    {
     "data": {
      "text/html": [
       "<div>\n",
       "<style scoped>\n",
       "    .dataframe tbody tr th:only-of-type {\n",
       "        vertical-align: middle;\n",
       "    }\n",
       "\n",
       "    .dataframe tbody tr th {\n",
       "        vertical-align: top;\n",
       "    }\n",
       "\n",
       "    .dataframe thead th {\n",
       "        text-align: right;\n",
       "    }\n",
       "</style>\n",
       "<table border=\"1\" class=\"dataframe\">\n",
       "  <thead>\n",
       "    <tr style=\"text-align: right;\">\n",
       "      <th></th>\n",
       "      <th>Station or stop</th>\n",
       "      <th>Name</th>\n",
       "      <th>Coordinate Latitude</th>\n",
       "      <th>Coordinate Longitude</th>\n",
       "      <th>Number of train rides</th>\n",
       "      <th>Minutes of delay</th>\n",
       "    </tr>\n",
       "  </thead>\n",
       "  <tbody>\n",
       "    <tr>\n",
       "      <th>0</th>\n",
       "      <td>80197079</td>\n",
       "      <td>KINDSBACH</td>\n",
       "      <td>49.420450</td>\n",
       "      <td>7.613668</td>\n",
       "      <td>30.880503</td>\n",
       "      <td>54.720126</td>\n",
       "    </tr>\n",
       "    <tr>\n",
       "      <th>1</th>\n",
       "      <td>80160168</td>\n",
       "      <td>NIEDERTREBRA</td>\n",
       "      <td>51.065500</td>\n",
       "      <td>11.580700</td>\n",
       "      <td>28.091228</td>\n",
       "      <td>0.691228</td>\n",
       "    </tr>\n",
       "    <tr>\n",
       "      <th>2</th>\n",
       "      <td>80105122</td>\n",
       "      <td>HAMM FELDMARK</td>\n",
       "      <td>51.697611</td>\n",
       "      <td>7.787870</td>\n",
       "      <td>23.058594</td>\n",
       "      <td>33.949219</td>\n",
       "    </tr>\n",
       "    <tr>\n",
       "      <th>3</th>\n",
       "      <td>80190793</td>\n",
       "      <td>LUDWIGSHAFEN (RHEIN) BASF</td>\n",
       "      <td>49.510682</td>\n",
       "      <td>8.428922</td>\n",
       "      <td>27.984375</td>\n",
       "      <td>0.475000</td>\n",
       "    </tr>\n",
       "    <tr>\n",
       "      <th>4</th>\n",
       "      <td>80231464</td>\n",
       "      <td>BURGKEMNITZ</td>\n",
       "      <td>51.689400</td>\n",
       "      <td>12.407990</td>\n",
       "      <td>12.372549</td>\n",
       "      <td>1.176471</td>\n",
       "    </tr>\n",
       "    <tr>\n",
       "      <th>...</th>\n",
       "      <td>...</td>\n",
       "      <td>...</td>\n",
       "      <td>...</td>\n",
       "      <td>...</td>\n",
       "      <td>...</td>\n",
       "      <td>...</td>\n",
       "    </tr>\n",
       "    <tr>\n",
       "      <th>3107</th>\n",
       "      <td>80101972</td>\n",
       "      <td>DORTMUND BUSCHSTRASSE</td>\n",
       "      <td>51.538476</td>\n",
       "      <td>7.395210</td>\n",
       "      <td>12.000000</td>\n",
       "      <td>0.000000</td>\n",
       "    </tr>\n",
       "    <tr>\n",
       "      <th>3108</th>\n",
       "      <td>80264408</td>\n",
       "      <td>SCHWAIGEN</td>\n",
       "      <td>48.665453</td>\n",
       "      <td>12.598961</td>\n",
       "      <td>10.000000</td>\n",
       "      <td>14.000000</td>\n",
       "    </tr>\n",
       "    <tr>\n",
       "      <th>3109</th>\n",
       "      <td>80233973</td>\n",
       "      <td>HOHENRODA</td>\n",
       "      <td>51.499080</td>\n",
       "      <td>12.421535</td>\n",
       "      <td>10.000000</td>\n",
       "      <td>0.000000</td>\n",
       "    </tr>\n",
       "    <tr>\n",
       "      <th>3110</th>\n",
       "      <td>80060517</td>\n",
       "      <td>DRESDEN-DOBRITZ</td>\n",
       "      <td>51.013900</td>\n",
       "      <td>13.808676</td>\n",
       "      <td>14.000000</td>\n",
       "      <td>2.000000</td>\n",
       "    </tr>\n",
       "    <tr>\n",
       "      <th>3111</th>\n",
       "      <td>80516013</td>\n",
       "      <td>CELLE NORD</td>\n",
       "      <td>52.628166</td>\n",
       "      <td>10.069547</td>\n",
       "      <td>11.000000</td>\n",
       "      <td>0.000000</td>\n",
       "    </tr>\n",
       "  </tbody>\n",
       "</table>\n",
       "<p>3112 rows × 6 columns</p>\n",
       "</div>"
      ],
      "text/plain": [
       "      Station or stop                       Name  Coordinate Latitude  \\\n",
       "0            80197079                  KINDSBACH            49.420450   \n",
       "1            80160168               NIEDERTREBRA            51.065500   \n",
       "2            80105122              HAMM FELDMARK            51.697611   \n",
       "3            80190793  LUDWIGSHAFEN (RHEIN) BASF            49.510682   \n",
       "4            80231464                BURGKEMNITZ            51.689400   \n",
       "...               ...                        ...                  ...   \n",
       "3107         80101972      DORTMUND BUSCHSTRASSE            51.538476   \n",
       "3108         80264408                  SCHWAIGEN            48.665453   \n",
       "3109         80233973                  HOHENRODA            51.499080   \n",
       "3110         80060517            DRESDEN-DOBRITZ            51.013900   \n",
       "3111         80516013                 CELLE NORD            52.628166   \n",
       "\n",
       "      Coordinate Longitude  Number of train rides  Minutes of delay  \n",
       "0                 7.613668              30.880503         54.720126  \n",
       "1                11.580700              28.091228          0.691228  \n",
       "2                 7.787870              23.058594         33.949219  \n",
       "3                 8.428922              27.984375          0.475000  \n",
       "4                12.407990              12.372549          1.176471  \n",
       "...                    ...                    ...               ...  \n",
       "3107              7.395210              12.000000          0.000000  \n",
       "3108             12.598961              10.000000         14.000000  \n",
       "3109             12.421535              10.000000          0.000000  \n",
       "3110             13.808676              14.000000          2.000000  \n",
       "3111             10.069547              11.000000          0.000000  \n",
       "\n",
       "[3112 rows x 6 columns]"
      ]
     },
     "execution_count": 13,
     "metadata": {},
     "output_type": "execute_result"
    }
   ],
   "source": [
    "# check if it worked\n",
    "data_mean"
   ]
  },
  {
   "cell_type": "code",
   "execution_count": 14,
   "metadata": {
    "ExecuteTime": {
     "start_time": "2024-01-17T10:54:06.922883Z"
    }
   },
   "outputs": [
    {
     "name": "stdout",
     "output_type": "stream",
     "text": [
      "3112\n",
      "3105\n",
      "3112\n"
     ]
    }
   ],
   "source": [
    "# check if it worked\n",
    "print(len(data_mean))\n",
    "\n",
    "print(len(data_mean[\"Name\"].unique()))\n",
    "\n",
    "print(len(data_mean[\"Station or stop\"].unique()))"
   ]
  },
  {
   "cell_type": "code",
   "execution_count": 15,
   "metadata": {
    "ExecuteTime": {
     "end_time": "2024-01-17T10:54:06.946144Z",
     "start_time": "2024-01-17T10:54:06.924750Z"
    }
   },
   "outputs": [],
   "source": [
    "# 4) drop stations with less than 10 train rides in mean\n",
    "data_mean = data_mean[data_mean[\"Number of train rides\"] >= 10]"
   ]
  },
  {
   "cell_type": "markdown",
   "metadata": {},
   "source": [
    "### Function to return data"
   ]
  },
  {
   "cell_type": "code",
   "execution_count": 16,
   "metadata": {},
   "outputs": [],
   "source": [
    "def get_data(which = \"full\"):\n",
    "    if which == \"full\":\n",
    "        return data\n",
    "    elif which == \"mean\":\n",
    "        return data_mean\n",
    "    else:\n",
    "        print(\"Choose full or mean dataset.\")"
   ]
  },
  {
   "cell_type": "markdown",
   "metadata": {},
   "source": [
    "### Get which station is connected to which path"
   ]
  },
  {
   "cell_type": "code",
   "execution_count": 17,
   "metadata": {},
   "outputs": [],
   "source": [
    "paths = pd.read_csv(\"../dat/path_delays.csv\")"
   ]
  },
  {
   "cell_type": "code",
   "execution_count": 18,
   "metadata": {},
   "outputs": [
    {
     "data": {
      "text/html": [
       "<div>\n",
       "<style scoped>\n",
       "    .dataframe tbody tr th:only-of-type {\n",
       "        vertical-align: middle;\n",
       "    }\n",
       "\n",
       "    .dataframe tbody tr th {\n",
       "        vertical-align: top;\n",
       "    }\n",
       "\n",
       "    .dataframe thead th {\n",
       "        text-align: right;\n",
       "    }\n",
       "</style>\n",
       "<table border=\"1\" class=\"dataframe\">\n",
       "  <thead>\n",
       "    <tr style=\"text-align: right;\">\n",
       "      <th></th>\n",
       "      <th>Path</th>\n",
       "      <th>Total Delay</th>\n",
       "    </tr>\n",
       "  </thead>\n",
       "  <tbody>\n",
       "    <tr>\n",
       "      <th>0</th>\n",
       "      <td>4801 -&gt; 4800 -&gt; 4080 -&gt; 3522 -&gt; 3520</td>\n",
       "      <td>26.980872</td>\n",
       "    </tr>\n",
       "    <tr>\n",
       "      <th>1</th>\n",
       "      <td>4801 -&gt; 4800 -&gt; 4080 -&gt; 3522 -&gt; 3603</td>\n",
       "      <td>27.188116</td>\n",
       "    </tr>\n",
       "    <tr>\n",
       "      <th>2</th>\n",
       "      <td>4801 -&gt; 4800 -&gt; 4080 -&gt; 4011 -&gt; 4010</td>\n",
       "      <td>21.579940</td>\n",
       "    </tr>\n",
       "    <tr>\n",
       "      <th>3</th>\n",
       "      <td>4801 -&gt; 4800 -&gt; 4080 -&gt; 4004 -&gt; 4010</td>\n",
       "      <td>21.579940</td>\n",
       "    </tr>\n",
       "    <tr>\n",
       "      <th>4</th>\n",
       "      <td>4801 -&gt; 4900 -&gt; 4124 -&gt; 5220 -&gt; 3660</td>\n",
       "      <td>25.315917</td>\n",
       "    </tr>\n",
       "    <tr>\n",
       "      <th>...</th>\n",
       "      <td>...</td>\n",
       "      <td>...</td>\n",
       "    </tr>\n",
       "    <tr>\n",
       "      <th>103</th>\n",
       "      <td>4801 -&gt; 4811 -&gt; 4080 -&gt; 4004 -&gt; 4010</td>\n",
       "      <td>14.785629</td>\n",
       "    </tr>\n",
       "    <tr>\n",
       "      <th>104</th>\n",
       "      <td>4801 -&gt; 4812 -&gt; 4080 -&gt; 3522 -&gt; 3520</td>\n",
       "      <td>20.186561</td>\n",
       "    </tr>\n",
       "    <tr>\n",
       "      <th>105</th>\n",
       "      <td>4801 -&gt; 4812 -&gt; 4080 -&gt; 3522 -&gt; 3603</td>\n",
       "      <td>20.393805</td>\n",
       "    </tr>\n",
       "    <tr>\n",
       "      <th>106</th>\n",
       "      <td>4801 -&gt; 4812 -&gt; 4080 -&gt; 4011 -&gt; 4010</td>\n",
       "      <td>14.785629</td>\n",
       "    </tr>\n",
       "    <tr>\n",
       "      <th>107</th>\n",
       "      <td>4801 -&gt; 4812 -&gt; 4080 -&gt; 4004 -&gt; 4010</td>\n",
       "      <td>14.785629</td>\n",
       "    </tr>\n",
       "  </tbody>\n",
       "</table>\n",
       "<p>108 rows × 2 columns</p>\n",
       "</div>"
      ],
      "text/plain": [
       "                                     Path  Total Delay\n",
       "0    4801 -> 4800 -> 4080 -> 3522 -> 3520    26.980872\n",
       "1    4801 -> 4800 -> 4080 -> 3522 -> 3603    27.188116\n",
       "2    4801 -> 4800 -> 4080 -> 4011 -> 4010    21.579940\n",
       "3    4801 -> 4800 -> 4080 -> 4004 -> 4010    21.579940\n",
       "4    4801 -> 4900 -> 4124 -> 5220 -> 3660    25.315917\n",
       "..                                    ...          ...\n",
       "103  4801 -> 4811 -> 4080 -> 4004 -> 4010    14.785629\n",
       "104  4801 -> 4812 -> 4080 -> 3522 -> 3520    20.186561\n",
       "105  4801 -> 4812 -> 4080 -> 3522 -> 3603    20.393805\n",
       "106  4801 -> 4812 -> 4080 -> 4011 -> 4010    14.785629\n",
       "107  4801 -> 4812 -> 4080 -> 4004 -> 4010    14.785629\n",
       "\n",
       "[108 rows x 2 columns]"
      ]
     },
     "execution_count": 18,
     "metadata": {},
     "output_type": "execute_result"
    }
   ],
   "source": [
    "paths"
   ]
  },
  {
   "cell_type": "code",
   "execution_count": 19,
   "metadata": {},
   "outputs": [],
   "source": [
    "stations = pd.read_csv(\"../dat/stations_with_nearest_routes.csv\")\n",
    "stations = stations.rename(columns = {\"Station or stop\": \"Station\"})"
   ]
  },
  {
   "cell_type": "code",
   "execution_count": 22,
   "metadata": {},
   "outputs": [],
   "source": [
    "paths_dict = {}\n",
    "\n",
    "# Iterate over rows and extract routes\n",
    "for index, row in paths.iterrows():\n",
    "    path_key = f\"path{index}\"\n",
    "    routes = list(map(int, row[\"Path\"].split(\" -> \")))\n",
    "    stations_for_routes = stations[stations.Route.isin(routes)].Station.to_list()\n",
    "    values = {}\n",
    "    values[\"routes\"] = routes\n",
    "    values[\"stations\"] = stations_for_routes\n",
    "    paths_dict[path_key] = values\n",
    "\n",
    "for k, v in paths_dict.items():\n",
    "    means = data_mean[data_mean[\"Station or stop\"].isin(v[\"stations\"])][\"Minutes of delay\"].mean()\n",
    "    v[\"mean_delay\"] = means\n",
    "\n",
    "# Only retain stations that do not use the same stations\n",
    "unique_stations = {}\n",
    "for key, value in paths_dict.items():\n",
    "    stations_key = tuple(value['stations'])\n",
    "    if stations_key not in unique_stations:\n",
    "        unique_stations[stations_key] = value\n",
    "\n",
    "# If you want to convert it back to a dictionary\n",
    "paths_dict = {f'path{i}': value for i, (key, value) in enumerate(unique_stations.items())}"
   ]
  },
  {
   "cell_type": "code",
   "execution_count": 24,
   "metadata": {},
   "outputs": [],
   "source": [
    "def get_paths():\n",
    "    return paths_dict"
   ]
  },
  {
   "cell_type": "code",
   "execution_count": 25,
   "metadata": {},
   "outputs": [],
   "source": [
    "# save dictionary as numpy file\n",
    "np.save('../dat/paths.npy', paths_dict)"
   ]
  },
  {
   "cell_type": "markdown",
   "metadata": {},
   "source": [
    "Read the `paths.npy` file in the following way:\n",
    "```{python}\n",
    "paths = np.load('paths.npy', allow_pickle='TRUE').item()\n",
    "```"
   ]
  }
 ],
 "metadata": {
  "kernelspec": {
   "display_name": "Python 3 (ipykernel)",
   "language": "python",
   "name": "python3"
  },
  "language_info": {
   "codemirror_mode": {
    "name": "ipython",
    "version": 3
   },
   "file_extension": ".py",
   "mimetype": "text/x-python",
   "name": "python",
   "nbconvert_exporter": "python",
   "pygments_lexer": "ipython3",
   "version": "3.11.6"
  }
 },
 "nbformat": 4,
 "nbformat_minor": 4
}
